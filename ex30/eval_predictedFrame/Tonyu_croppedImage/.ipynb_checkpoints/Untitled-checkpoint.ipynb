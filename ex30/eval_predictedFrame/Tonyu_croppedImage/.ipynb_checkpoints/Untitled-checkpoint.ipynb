{
 "cells": [
  {
   "cell_type": "code",
   "execution_count": 1,
   "metadata": {},
   "outputs": [
    {
     "name": "stdout",
     "output_type": "stream",
     "text": [
      "合計 684\r\n",
      "drwxr-xr-x 1 root 1004    131  9月 11 16:13 .\r\n",
      "drwxr-xr-x 1 root 1004   4096  9月  3 05:52 ..\r\n",
      "drwxr-xr-x 1 root 1004     10  9月 11 16:13 .ipynb_checkpoints\r\n",
      "-rw-r--r-- 1 root 1004  16942  9月 11 14:20 Untitled.ipynb\r\n",
      "-rw-r--r-- 1 root 1004 649141  9月  3 04:35 candidate.json\r\n",
      "-rw-r--r-- 1 root 1004    731  9月  3 05:55 query.json\r\n",
      "-rw-r--r-- 1 root 1004  11829  9月  3 05:58 result.pdf\r\n"
     ]
    }
   ],
   "source": [
    "import json\n",
    "!ls -al"
   ]
  },
  {
   "cell_type": "code",
   "execution_count": 2,
   "metadata": {},
   "outputs": [],
   "source": [
    "with open(\"./candidate.json\", \"r\") as f:\n",
    "    JSON = json.load(f)"
   ]
  },
  {
   "cell_type": "code",
   "execution_count": 3,
   "metadata": {},
   "outputs": [
    {
     "data": {
      "text/plain": [
       "['/home/opticalFlow/tonyu_ex04/crop30/37170.png',\n",
       " '/home/opticalFlow/tonyu_ex04/crop30/52590.png',\n",
       " '/home/opticalFlow/tonyu_ex04/crop30/60570.png',\n",
       " '/home/opticalFlow/tonyu_ex04/crop30/43140.png',\n",
       " '/home/opticalFlow/tonyu_ex04/crop30/58140.png']"
      ]
     },
     "execution_count": 3,
     "metadata": {},
     "output_type": "execute_result"
    }
   ],
   "source": [
    "JSON[0][0]"
   ]
  },
  {
   "cell_type": "code",
   "execution_count": 81,
   "metadata": {},
   "outputs": [],
   "source": [
    "# 手順１\n",
    "for epochOrders in JSON:\n",
    "    epochOrders[0][4] = epochOrders[0][2]\n",
    "    epochOrders[0][3] = epochOrders[0][1]\n",
    "    epochOrders[0][2] = epochOrders[0][0]\n",
    "    epochOrders[0][1] = epochOrders[0][0]\n",
    "    \n",
    "    epochOrders[0][0] = \"/home/opticalFlow/tonyu_ex04/crop30/48120.png\""
   ]
  },
  {
   "cell_type": "code",
   "execution_count": 82,
   "metadata": {},
   "outputs": [],
   "source": [
    "# 手順2\n",
    "# for epochOrders in JSON:\n",
    "#     epochOrders[1][4] = epochOrders[1][2]\n",
    "#     epochOrders[1][3] = epochOrders[1][1]\n",
    "#     epochOrders[1][2] = epochOrders[1][0]\n",
    "#     epochOrders[1][0] = \"/home/dataset/RakutenDS/triplet/Hamburg_mitsuru/Hamburg_mitsuru30_resize/03660.png\"\n",
    "#     epochOrders[1][1] = \"/home/dataset/RakutenDS/triplet/Hamburg_mitsuru/Hamburg_mitsuru30_resize/04230.png\""
   ]
  },
  {
   "cell_type": "code",
   "execution_count": 83,
   "metadata": {},
   "outputs": [],
   "source": [
    "# # 手順3\n",
    "# for epochOrders in JSON:\n",
    "#     epochOrders[2][0] = \"/home/dataset/RakutenDS/triplet/Hamburg_mitsuru/Hamburg_mitsuru30_resize/11370.png\"\n",
    "#     epochOrders[2][1] = \"/home/dataset/RakutenDS/triplet/Hamburg_mitsuru/Hamburg_mitsuru30_resize/15120.png\"\n",
    "#     epochOrders[2][2] = \"/home/dataset/RakutenDS/triplet/Hamburg_mitsuru/Hamburg_mitsuru30_resize/17520.png\"\n",
    "#     epochOrders[2][3] = \"/home/dataset/RakutenDS/triplet/Hamburg_mitsuru/Hamburg_mitsuru30_resize/31170.png\"\n",
    "#     epochOrders[2][4] = \"/home/dataset/RakutenDS/triplet/Hamburg_mitsuru/Hamburg_mitsuru30_resize/34530.png\""
   ]
  },
  {
   "cell_type": "code",
   "execution_count": 84,
   "metadata": {},
   "outputs": [],
   "source": [
    "# # 手順4\n",
    "# for epochOrders in JSON:\n",
    "#     epochOrders[3][4] = epochOrders[3][2]\n",
    "#     epochOrders[3][3] = epochOrders[3][1]\n",
    "#     epochOrders[3][2] = epochOrders[3][0]\n",
    "#     epochOrders[3][0] = \"/home/dataset/RakutenDS/triplet/Hamburg_mitsuru/Hamburg_mitsuru30_resize/33300.png\"\n",
    "#     epochOrders[3][1] = \"/home/dataset/RakutenDS/triplet/Hamburg_mitsuru/Hamburg_mitsuru30_resize/40440.png\""
   ]
  },
  {
   "cell_type": "code",
   "execution_count": 85,
   "metadata": {},
   "outputs": [],
   "source": [
    "# 手順5\n",
    "for epochOrders in JSON:\n",
    "    epochOrders[4][4] = \"/home/opticalFlow/tonyu_ex04/crop30/40110.png\"\n",
    "    epochOrders[4][3] = \"/home/opticalFlow/tonyu_ex04/crop30/32130.png\"\n",
    "    epochOrders[4][2] = \"/home/opticalFlow/tonyu_ex04/crop30/27960.png\"\n",
    "    epochOrders[4][0] = \"/home/opticalFlow/tonyu_ex04/crop30/19980.png\"\n",
    "    epochOrders[4][1] = \"/home/opticalFlow/tonyu_ex04/crop30/25710.png\""
   ]
  },
  {
   "cell_type": "code",
   "execution_count": 86,
   "metadata": {},
   "outputs": [],
   "source": [
    "# 手順6\n",
    "for epochOrders in JSON:\n",
    "    epochOrders[5][4] = \"/home/opticalFlow/tonyu_ex04/crop30/40110.png\"\n",
    "    epochOrders[5][3] = \"/home/opticalFlow/tonyu_ex04/crop30/32130.png\"\n",
    "    epochOrders[5][2] = \"/home/opticalFlow/tonyu_ex04/crop30/27960.png\"\n",
    "    epochOrders[5][0] = \"/home/opticalFlow/tonyu_ex04/crop30/19980.png\"\n",
    "    epochOrders[5][1] = \"/home/opticalFlow/tonyu_ex04/crop30/25710.png\""
   ]
  },
  {
   "cell_type": "code",
   "execution_count": 87,
   "metadata": {},
   "outputs": [],
   "source": [
    "# # 手順7\n",
    "# for epochOrders in JSON:\n",
    "#     epochOrders[6][4] = epochOrders[6][2]\n",
    "#     epochOrders[6][3] = epochOrders[6][1]\n",
    "#     epochOrders[6][2] = epochOrders[6][0]\n",
    "#     epochOrders[6][0] = \"/home/dataset/RakutenDS/triplet/Hamburg_mitsuru/Hamburg_mitsuru30_resize/44670.png\"\n",
    "#     epochOrders[6][1] = \"/home/dataset/RakutenDS/triplet/Hamburg_mitsuru/Hamburg_mitsuru30_resize/14370.png\""
   ]
  },
  {
   "cell_type": "code",
   "execution_count": 88,
   "metadata": {},
   "outputs": [],
   "source": [
    "# # 手順8\n",
    "# for epochOrders in JSON:\n",
    "#     epochOrders[7][4] = epochOrders[7][2]\n",
    "#     epochOrders[7][3] = epochOrders[7][1]\n",
    "#     epochOrders[7][2] = epochOrders[7][0]\n",
    "#     epochOrders[7][0] = \"/home/dataset/RakutenDS/triplet/Hamburg_mitsuru/Hamburg_mitsuru30_resize/03660.png\"\n",
    "#     epochOrders[7][1] = \"/home/dataset/RakutenDS/triplet/Hamburg_mitsuru/Hamburg_mitsuru30_resize/04230.png\""
   ]
  },
  {
   "cell_type": "code",
   "execution_count": 89,
   "metadata": {},
   "outputs": [],
   "source": [
    "# 手順9\n",
    "for epochOrders in JSON:\n",
    "    epochOrders[8][4] = \"/home/opticalFlow/tonyu_ex04/crop30/19980.png\"\n",
    "    epochOrders[8][3] = \"/home/opticalFlow/tonyu_ex04/crop30/50940.png\"\n",
    "    epochOrders[8][2] = \"/home/opticalFlow/tonyu_ex04/crop30/49740.png\"\n",
    "    epochOrders[8][0] = \"/home/opticalFlow/tonyu_ex04/crop30/39630.png\"\n",
    "    epochOrders[8][1] = \"/home/opticalFlow/tonyu_ex04/crop30/40680.png\""
   ]
  },
  {
   "cell_type": "code",
   "execution_count": 90,
   "metadata": {},
   "outputs": [],
   "source": [
    "# # 手順１0\n",
    "# for epochOrders in JSON:\n",
    "#     epochOrders[9][4] = epochOrders[9][2]\n",
    "#     epochOrders[9][3] = epochOrders[9][1]\n",
    "#     epochOrders[9][2] = epochOrders[9][0]\n",
    "#     epochOrders[9][0] = \"/home/dataset/RakutenDS/triplet/Hamburg_mitsuru/Hamburg_mitsuru30_resize/03660.png\"\n",
    "#     epochOrders[9][1] = \"/home/dataset/RakutenDS/triplet/Hamburg_mitsuru/Hamburg_mitsuru30_resize/04230.png\""
   ]
  },
  {
   "cell_type": "code",
   "execution_count": 91,
   "metadata": {},
   "outputs": [],
   "source": [
    "# 手順１1\n",
    "for epochOrders in JSON:\n",
    "    epochOrders[10][4] = epochOrders[10][2]\n",
    "    epochOrders[10][3] = epochOrders[10][1]\n",
    "    epochOrders[10][2] = epochOrders[10][0]\n",
    "    epochOrders[10][0] = \"/home/dataset/RakutenDS/triplet/Hamburg_mitsuru/Hamburg_mitsuru30_resize/74160.png\"\n",
    "    epochOrders[10][1] = \"/home/dataset/RakutenDS/triplet/Hamburg_mitsuru/Hamburg_mitsuru30_resize/70260.png\""
   ]
  },
  {
   "cell_type": "code",
   "execution_count": 92,
   "metadata": {},
   "outputs": [],
   "source": [
    "# # 手順１2\n",
    "# for epochOrders in JSON:\n",
    "#     epochOrders[11][4] = epochOrders[11][2]\n",
    "#     epochOrders[11][3] = epochOrders[11][1]\n",
    "#     epochOrders[11][2] = epochOrders[11][0]\n",
    "#     epochOrders[11][0] = \"/home/dataset/RakutenDS/triplet/Hamburg_mitsuru/Hamburg_mitsuru30_resize/03660.png\"\n",
    "#     epochOrders[11][1] = \"/home/dataset/RakutenDS/triplet/Hamburg_mitsuru/Hamburg_mitsuru30_resize/04230.png\""
   ]
  },
  {
   "cell_type": "code",
   "execution_count": 93,
   "metadata": {},
   "outputs": [],
   "source": [
    "# # 手順１3\n",
    "# for epochOrders in JSON:\n",
    "#     epochOrders[12][4] = epochOrders[12][2]\n",
    "#     epochOrders[12][3] = epochOrders[12][1]\n",
    "#     epochOrders[12][2] = epochOrders[12][0]\n",
    "#     epochOrders[12][0] = \"/home/dataset/RakutenDS/triplet/Hamburg_mitsuru/Hamburg_mitsuru30_resize/03660.png\"\n",
    "#     epochOrders[12][1] = \"/home/dataset/RakutenDS/triplet/Hamburg_mitsuru/Hamburg_mitsuru30_resize/04230.png\""
   ]
  },
  {
   "cell_type": "code",
   "execution_count": 94,
   "metadata": {},
   "outputs": [
    {
     "data": {
      "text/plain": [
       "[['/home/dataset/RakutenDS/triplet/Hamburg_mitsuru/Hamburg_mitsuru30_resize/03660.png',\n",
       "  '/home/dataset/RakutenDS/triplet/Hamburg_mitsuru/Hamburg_mitsuru30_resize/04230.png',\n",
       "  '/home/dataset/RakutenDS/triplet/Hamburg_mitsuru/Hamburg_mitsuru30_resize/34020.png',\n",
       "  '/home/dataset/RakutenDS/triplet/Hamburg_mitsuru/Hamburg_mitsuru30_resize/08160.png',\n",
       "  '/home/dataset/RakutenDS/triplet/Hamburg_mitsuru/Hamburg_mitsuru30_resize/11940.png'],\n",
       " ['/home/dataset/RakutenDS/triplet/Hamburg_mitsuru/Hamburg_mitsuru30_resize/26100.png',\n",
       "  '/home/dataset/RakutenDS/triplet/Hamburg_mitsuru/Hamburg_mitsuru30_resize/67380.png',\n",
       "  '/home/dataset/RakutenDS/triplet/Hamburg_mitsuru/Hamburg_mitsuru30_resize/08190.png',\n",
       "  '/home/dataset/RakutenDS/triplet/Hamburg_mitsuru/Hamburg_mitsuru30_resize/10890.png',\n",
       "  '/home/dataset/RakutenDS/triplet/Hamburg_mitsuru/Hamburg_mitsuru30_resize/30360.png'],\n",
       " ['/home/dataset/RakutenDS/triplet/Hamburg_mitsuru/Hamburg_mitsuru30_resize/11370.png',\n",
       "  '/home/dataset/RakutenDS/triplet/Hamburg_mitsuru/Hamburg_mitsuru30_resize/15120.png',\n",
       "  '/home/dataset/RakutenDS/triplet/Hamburg_mitsuru/Hamburg_mitsuru30_resize/17520.png',\n",
       "  '/home/dataset/RakutenDS/triplet/Hamburg_mitsuru/Hamburg_mitsuru30_resize/31170.png',\n",
       "  '/home/dataset/RakutenDS/triplet/Hamburg_mitsuru/Hamburg_mitsuru30_resize/34530.png'],\n",
       " ['/home/dataset/RakutenDS/triplet/Hamburg_mitsuru/Hamburg_mitsuru30_resize/33300.png',\n",
       "  '/home/dataset/RakutenDS/triplet/Hamburg_mitsuru/Hamburg_mitsuru30_resize/40440.png',\n",
       "  '/home/dataset/RakutenDS/triplet/Hamburg_mitsuru/Hamburg_mitsuru30_resize/67380.png',\n",
       "  '/home/dataset/RakutenDS/triplet/Hamburg_mitsuru/Hamburg_mitsuru30_resize/08190.png',\n",
       "  '/home/dataset/RakutenDS/triplet/Hamburg_mitsuru/Hamburg_mitsuru30_resize/10890.png'],\n",
       " ['/home/dataset/RakutenDS/triplet/Hamburg_mitsuru/Hamburg_mitsuru30_resize/35400.png',\n",
       "  '/home/dataset/RakutenDS/triplet/Hamburg_mitsuru/Hamburg_mitsuru30_resize/31260.png',\n",
       "  '/home/dataset/RakutenDS/triplet/Hamburg_mitsuru/Hamburg_mitsuru30_resize/34230.png',\n",
       "  '/home/dataset/RakutenDS/triplet/Hamburg_mitsuru/Hamburg_mitsuru30_resize/66060.png',\n",
       "  '/home/dataset/RakutenDS/triplet/Hamburg_mitsuru/Hamburg_mitsuru30_resize/72240.png'],\n",
       " ['/home/dataset/RakutenDS/triplet/Hamburg_mitsuru/Hamburg_mitsuru30_resize/33990.png',\n",
       "  '/home/dataset/RakutenDS/triplet/Hamburg_mitsuru/Hamburg_mitsuru30_resize/53460.png',\n",
       "  '/home/dataset/RakutenDS/triplet/Hamburg_mitsuru/Hamburg_mitsuru30_resize/50970.png',\n",
       "  '/home/dataset/RakutenDS/triplet/Hamburg_mitsuru/Hamburg_mitsuru30_resize/05430.png',\n",
       "  '/home/dataset/RakutenDS/triplet/Hamburg_mitsuru/Hamburg_mitsuru30_resize/06330.png'],\n",
       " ['/home/dataset/RakutenDS/triplet/Hamburg_mitsuru/Hamburg_mitsuru30_resize/44670.png',\n",
       "  '/home/dataset/RakutenDS/triplet/Hamburg_mitsuru/Hamburg_mitsuru30_resize/14370.png',\n",
       "  '/home/dataset/RakutenDS/triplet/Hamburg_mitsuru/Hamburg_mitsuru30_resize/59820.png',\n",
       "  '/home/dataset/RakutenDS/triplet/Hamburg_mitsuru/Hamburg_mitsuru30_resize/12390.png',\n",
       "  '/home/dataset/RakutenDS/triplet/Hamburg_mitsuru/Hamburg_mitsuru30_resize/30540.png'],\n",
       " ['/home/dataset/RakutenDS/triplet/Hamburg_mitsuru/Hamburg_mitsuru30_resize/59820.png',\n",
       "  '/home/dataset/RakutenDS/triplet/Hamburg_mitsuru/Hamburg_mitsuru30_resize/05430.png',\n",
       "  '/home/dataset/RakutenDS/triplet/Hamburg_mitsuru/Hamburg_mitsuru30_resize/62940.png',\n",
       "  '/home/dataset/RakutenDS/triplet/Hamburg_mitsuru/Hamburg_mitsuru30_resize/33990.png',\n",
       "  '/home/dataset/RakutenDS/triplet/Hamburg_mitsuru/Hamburg_mitsuru30_resize/51030.png'],\n",
       " ['/home/dataset/RakutenDS/triplet/Hamburg_mitsuru/Hamburg_mitsuru30_resize/30090.png',\n",
       "  '/home/dataset/RakutenDS/triplet/Hamburg_mitsuru/Hamburg_mitsuru30_resize/34020.png',\n",
       "  '/home/dataset/RakutenDS/triplet/Hamburg_mitsuru/Hamburg_mitsuru30_resize/12150.png',\n",
       "  '/home/dataset/RakutenDS/triplet/Hamburg_mitsuru/Hamburg_mitsuru30_resize/08160.png',\n",
       "  '/home/dataset/RakutenDS/triplet/Hamburg_mitsuru/Hamburg_mitsuru30_resize/67380.png'],\n",
       " ['/home/dataset/RakutenDS/triplet/Hamburg_mitsuru/Hamburg_mitsuru30_resize/34350.png',\n",
       "  '/home/dataset/RakutenDS/triplet/Hamburg_mitsuru/Hamburg_mitsuru30_resize/30240.png',\n",
       "  '/home/dataset/RakutenDS/triplet/Hamburg_mitsuru/Hamburg_mitsuru30_resize/67380.png',\n",
       "  '/home/dataset/RakutenDS/triplet/Hamburg_mitsuru/Hamburg_mitsuru30_resize/08190.png',\n",
       "  '/home/dataset/RakutenDS/triplet/Hamburg_mitsuru/Hamburg_mitsuru30_resize/11880.png'],\n",
       " ['/home/dataset/RakutenDS/triplet/Hamburg_mitsuru/Hamburg_mitsuru30_resize/74160.png',\n",
       "  '/home/dataset/RakutenDS/triplet/Hamburg_mitsuru/Hamburg_mitsuru30_resize/70260.png',\n",
       "  '/home/dataset/RakutenDS/triplet/Hamburg_mitsuru/Hamburg_mitsuru30_resize/62940.png',\n",
       "  '/home/dataset/RakutenDS/triplet/Hamburg_mitsuru/Hamburg_mitsuru30_resize/59820.png',\n",
       "  '/home/dataset/RakutenDS/triplet/Hamburg_mitsuru/Hamburg_mitsuru30_resize/30210.png'],\n",
       " ['/home/dataset/RakutenDS/triplet/Hamburg_mitsuru/Hamburg_mitsuru30_resize/62940.png',\n",
       "  '/home/dataset/RakutenDS/triplet/Hamburg_mitsuru/Hamburg_mitsuru30_resize/29010.png',\n",
       "  '/home/dataset/RakutenDS/triplet/Hamburg_mitsuru/Hamburg_mitsuru30_resize/01830.png',\n",
       "  '/home/dataset/RakutenDS/triplet/Hamburg_mitsuru/Hamburg_mitsuru30_resize/59820.png',\n",
       "  '/home/dataset/RakutenDS/triplet/Hamburg_mitsuru/Hamburg_mitsuru30_resize/69270.png'],\n",
       " ['/home/dataset/RakutenDS/triplet/Hamburg_mitsuru/Hamburg_mitsuru30_resize/59850.png',\n",
       "  '/home/dataset/RakutenDS/triplet/Hamburg_mitsuru/Hamburg_mitsuru30_resize/43620.png',\n",
       "  '/home/dataset/RakutenDS/triplet/Hamburg_mitsuru/Hamburg_mitsuru30_resize/26100.png',\n",
       "  '/home/dataset/RakutenDS/triplet/Hamburg_mitsuru/Hamburg_mitsuru30_resize/29040.png',\n",
       "  '/home/dataset/RakutenDS/triplet/Hamburg_mitsuru/Hamburg_mitsuru30_resize/67380.png']]"
      ]
     },
     "execution_count": 94,
     "metadata": {},
     "output_type": "execute_result"
    }
   ],
   "source": [
    "JSON[4]"
   ]
  },
  {
   "cell_type": "code",
   "execution_count": 101,
   "metadata": {},
   "outputs": [],
   "source": [
    "with open(\"candidate_detection.json\", \"w\") as f:\n",
    "    json.dump(JSON, f, sort_keys=True, indent=4)"
   ]
  },
  {
   "cell_type": "code",
   "execution_count": null,
   "metadata": {},
   "outputs": [],
   "source": []
  }
 ],
 "metadata": {
  "kernelspec": {
   "display_name": "Python 3",
   "language": "python",
   "name": "python3"
  },
  "language_info": {
   "codemirror_mode": {
    "name": "ipython",
    "version": 3
   },
   "file_extension": ".py",
   "mimetype": "text/x-python",
   "name": "python",
   "nbconvert_exporter": "python",
   "pygments_lexer": "ipython3",
   "version": "3.6.8"
  }
 },
 "nbformat": 4,
 "nbformat_minor": 2
}
